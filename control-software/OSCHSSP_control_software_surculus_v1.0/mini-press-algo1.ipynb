{
 "cells": [
  {
   "cell_type": "code",
   "execution_count": 25,
   "metadata": {},
   "outputs": [
    {
     "data": {
      "text/html": [
       "<img src=\"https://mermaid.ink/img/CmZsb3djaGFydCBUQgogICAgU3RhcnQoW1N0YXJ0XSkgLS0%2BIEluaXRbSW5pdGlhbGl6ZSBTeXN0ZW0gUGFyYW1ldGVyc10KICAgIEluaXQgLS0%2BIE1vZGVDaGVja3tDaGVjayBTdGF0dXN9CiAgICAKICAgIE1vZGVDaGVjayAtLSBUdW5pbmcgLS0%2BIFR1bmluZ0FuYWx5c2lzW1R1bmluZyBBbmFseXNpc10KICAgIFR1bmluZ0FuYWx5c2lzIC0tPiBDaGVja1BJRFBhcmFtc3tQSUQgUGFyYW1zIFVwZGF0ZWQ%2FfQogICAgQ2hlY2tQSURQYXJhbXMgLS0gWWVzIC0tPiBVcGRhdGVQSURQYXJhbXNbVXBkYXRlIFBJRCBQYXJhbWV0ZXJzXQogICAgQ2hlY2tQSURQYXJhbXMgLS0gTm8gLS0%2BIENoZWNrUFdNUGVyaW9ke1BXTSBQZXJpb2QgVXBkYXRlZD99CiAgICBVcGRhdGVQSURQYXJhbXMgLS0%2BIENoZWNrUFdNUGVyaW9kCgogICAgQ2hlY2tQV01QZXJpb2QgLS0gWWVzIC0tPiBVcGRhdGVQV01QZXJpb2RbVXBkYXRlIFBXTSBQZXJpb2RdCiAgICBDaGVja1BXTVBlcmlvZCAtLSBObyAtLT4gU2V0UG9pbnRPcHtTZXQgUG9pbnQgVXBkYXRlZD99CiAgICBVcGRhdGVQV01QZXJpb2QgLS0%2BIFNldFBvaW50T3AKCiAgICBTZXRQb2ludE9wIC0tIFllcyAtLT4gVXBkYXRlU2V0UG9pbnRPcFtVcGRhdGUgU2V0IFBvaW50XQogICAgVXBkYXRlU2V0UG9pbnRPcCAtLT4gQ2VudHJhbEZsb3d7Q2VudHJhbCBDb250cm9sIEZsb3d9CiAgICBTZXRQb2ludE9wIC0tIE5vIC0tPiBDZW50cmFsRmxvdwoKICAgIENlbnRyYWxGbG93IC0tPiBVcGRhdGVMQ0RbVXBkYXRlIExDRF0KICAgIFVwZGF0ZUxDRCAtLT4gUmVhZFRlbXBbUmVhZCBUZW1wZXJhdHVyZSBmcm9tIFRoZXJtb2NvdXBsZXNdCiAgICBSZWFkVGVtcCAtLT4gQ29tcGFyZVtDb21wYXJlIFRlbXBlcmF0dXJlIHRvIFNldCBQb2ludF0KICAgIENvbXBhcmUgLS0%2BIFBJRENvbnRyb2xbQWRqdXN0IFBJRCBDb250cm9sbGVyXQogICAgUElEQ29udHJvbCAtLT4gUFdNW0dlbmVyYXRlIFBXTSBTaWduYWxdCiAgICBQV00gLS0%2BIFNTUkNvbnRyb2xbQ29udHJvbCBTU1JzIHdpdGggUFdNXQogICAgU1NSQ29udHJvbCAtLT4gTW9kZUNoZWNrCgogICAgTW9kZUNoZWNrIC0tIE9wZXJhdGluZyAtLT4gVGVtcFJlYWNoZWRPcHtUZW1wZXJhdHVyZSBSZWFjaGVkIAogU3RlYWR5LVN0YXRlIFNldCBQb2ludD99CiAgICBUZW1wUmVhY2hlZE9wIC0tIFllcyAtLT4gU3RhcnRUaW1lck9wW1N0YXJ0IFRpbWVyXQogICAgVGVtcFJlYWNoZWRPcCAtLSBObyAtLT4gVXBkYXRlVG90YWxSdW5UaW1lW1VwZGF0ZSBUb3RhbCBSdW4gVGltZV0KCiAgICBTdGFydFRpbWVyT3AgLS0%2BIFRpbWVyRXhwaXJlZE9we1RpbWVyIENvbXBsZXRlP30KICAgIFRpbWVyRXhwaXJlZE9wIC0tIFllcyAtLT4gU3RvcFRpbWVyT3BbU2V0IENvbXBsZXRpb24gRmxhZ10KICAgIFRpbWVyRXhwaXJlZE9wIC0tIE5vIC0tPiBVcGRhdGVUb3RhbFJ1blRpbWUKCiAgICBTdG9wVGltZXJPcCAtLT4gVXBkYXRlVG90YWxSdW5UaW1lCiAgICBVcGRhdGVUb3RhbFJ1blRpbWUgLS0%2BIENoZWNrQ29tcGxldGlvbntDb21wbGV0aW9uIEZsYWcgVHJ1ZT99CiAgICBDaGVja0NvbXBsZXRpb24gLS1Oby0tPiBTZXRQb2ludE9wCiAgICBDaGVja0NvbXBsZXRpb24gLS1ZZXMtLT4gTW9kZUNoZWNrCg%3D%3D\"/>"
      ],
      "text/plain": [
       "<IPython.core.display.Image object>"
      ]
     },
     "metadata": {},
     "output_type": "display_data"
    }
   ],
   "source": [
    "import base64\n",
    "from IPython.display import Image, display\n",
    "import urllib.parse\n",
    "\n",
    "def mm(graph):\n",
    "    graphbytes = graph.encode(\"utf8\")\n",
    "    base64_bytes = base64.b64encode(graphbytes)\n",
    "    base64_string = base64_bytes.decode(\"ascii\")\n",
    "    url_safe_base64_string = urllib.parse.quote_plus(base64_string)\n",
    "    display(Image(url=\"https://mermaid.ink/img/\" + url_safe_base64_string))\n",
    "\n",
    "mm(\"\"\"\n",
    "flowchart TB\n",
    "    Start([Start]) --> Init[Initialize System Parameters]\n",
    "    Init --> ModeCheck{Check Status}\n",
    "    \n",
    "    ModeCheck -- Tuning --> TuningAnalysis[Tuning Analysis]\n",
    "    TuningAnalysis --> CheckPIDParams{PID Params Updated?}\n",
    "    CheckPIDParams -- Yes --> UpdatePIDParams[Update PID Parameters]\n",
    "    CheckPIDParams -- No --> CheckPWMPeriod{PWM Period Updated?}\n",
    "    UpdatePIDParams --> CheckPWMPeriod\n",
    "\n",
    "    CheckPWMPeriod -- Yes --> UpdatePWMPeriod[Update PWM Period]\n",
    "    CheckPWMPeriod -- No --> SetPointOp{Set Point Updated?}\n",
    "    UpdatePWMPeriod --> SetPointOp\n",
    "\n",
    "    SetPointOp -- Yes --> UpdateSetPointOp[Update Set Point]\n",
    "    UpdateSetPointOp --> CentralFlow{Central Control Flow}\n",
    "    SetPointOp -- No --> CentralFlow\n",
    "\n",
    "    CentralFlow --> UpdateLCD[Update LCD]\n",
    "    UpdateLCD --> ReadTemp[Read Temperature from Thermocouples]\n",
    "    ReadTemp --> Compare[Compare Temperature to Set Point]\n",
    "    Compare --> PIDControl[Adjust PID Controller]\n",
    "    PIDControl --> PWM[Generate PWM Signal]\n",
    "    PWM --> SSRControl[Control SSRs with PWM]\n",
    "    SSRControl --> ModeCheck\n",
    "\n",
    "    ModeCheck -- Operating --> TempReachedOp{Temperature Reached \\n Steady-State Set Point?}\n",
    "    TempReachedOp -- Yes --> StartTimerOp[Start Timer]\n",
    "    TempReachedOp -- No --> UpdateTotalRunTime[Update Total Run Time]\n",
    "\n",
    "    StartTimerOp --> TimerExpiredOp{Timer Complete?}\n",
    "    TimerExpiredOp -- Yes --> StopTimerOp[Set Completion Flag]\n",
    "    TimerExpiredOp -- No --> UpdateTotalRunTime\n",
    "\n",
    "    StopTimerOp --> UpdateTotalRunTime\n",
    "    UpdateTotalRunTime --> CheckCompletion{Completion Flag True?}\n",
    "    CheckCompletion --No--> SetPointOp\n",
    "    CheckCompletion --Yes--> ModeCheck\n",
    "\"\"\")\n"
   ]
  }
 ],
 "metadata": {
  "kernelspec": {
   "display_name": "Python 3",
   "language": "python",
   "name": "python3"
  },
  "language_info": {
   "codemirror_mode": {
    "name": "ipython",
    "version": 3
   },
   "file_extension": ".py",
   "mimetype": "text/x-python",
   "name": "python",
   "nbconvert_exporter": "python",
   "pygments_lexer": "ipython3",
   "version": "3.11.4"
  }
 },
 "nbformat": 4,
 "nbformat_minor": 2
}

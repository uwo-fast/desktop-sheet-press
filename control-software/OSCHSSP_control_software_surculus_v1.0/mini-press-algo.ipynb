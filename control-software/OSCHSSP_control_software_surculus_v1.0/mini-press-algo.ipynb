{
 "cells": [
  {
   "cell_type": "code",
   "execution_count": 9,
   "metadata": {},
   "outputs": [
    {
     "name": "stdout",
     "output_type": "stream",
     "text": [
      "Failed to retrieve the diagram. Status code: 404\n"
     ]
    }
   ],
   "source": [
    "import base64\n",
    "import requests\n",
    "from IPython.display import Image\n",
    "\n",
    "# Define the function to send the Mermaid graph definition to the mermaid.ink service and display the image\n",
    "def display_mermaid(graph_definition):\n",
    "    # Encode the graph definition in base64 to be used in the URL\n",
    "    graph_bytes = graph_definition.encode(\"utf-8\")\n",
    "    base64_bytes = base64.b64encode(graph_bytes)\n",
    "    base64_string = base64_bytes.decode(\"utf-8\")\n",
    "    \n",
    "    # Get the response from mermaid.ink\n",
    "    response = requests.get(f'https://mermaid.ink/img/{base64_string}')\n",
    "    \n",
    "    # Check if the request was successful\n",
    "    if response.status_code == 200:\n",
    "        # Display the image returned from the service\n",
    "        display(Image(response.content))\n",
    "    else:\n",
    "        print(\"Failed to retrieve the diagram. Status code:\", response.status_code)\n",
    "\n",
    "# Your complex Mermaid graph definition\n",
    "mermaid_graph = '''\n",
    "flowchart TB\n",
    "    Start([Start]) --> Init[Initialize System Parameters]\n",
    "    Init --> ModeCheck{Check Mode}\n",
    "    \n",
    "    ModeCheck -- Operating --> SetPointOp{Set Point Updated?}\n",
    "    ModeCheck -- Tuning --> TuningAnalysis[Tuning Analysis]\n",
    "\n",
    "    TuningAnalysis --> CheckPIDParams{PID Params Updated?}\n",
    "    CheckPIDParams -- Yes --> UpdatePIDParams[Update PID Parameters]\n",
    "    CheckPIDParams -- No --> CheckPWMPeriod{PWM Period Updated?}\n",
    "    UpdatePIDParams --> CheckPWMPeriod\n",
    "\n",
    "    CheckPWMPeriod -- Yes --> UpdatePWMPeriod[Update PWM Period]\n",
    "    CheckPWMPeriod -- No --> CentralFlow{Central Control Flow}\n",
    "\n",
    "    UpdatePWMPeriod --> CentralFlow\n",
    "\n",
    "    SetPointOp -- Yes --> UpdateSetPointOp[Update Set Point]\n",
    "    UpdateSetPointOp --> CentralFlow\n",
    "    SetPointOp -- No --> CentralFlow\n",
    "\n",
    "    CentralFlow --> UpdateLCD[Update LCD]\n",
    "    UpdateLCD --> ReadTemp[Read Temperature from Thermocouples]\n",
    "    ReadTemp --> Compare[Compare Temperature to Set Point]\n",
    "    Compare --> PIDControl[Adjust PID Controller]\n",
    "    PIDControl --> PWM[Generate PWM Signal]\n",
    "    PWM --> SSRControl[Control SSRs with PWM]\n",
    "    SSRControl --> ModeCheck\n",
    "\n",
    "    ModeCheck -- Operating --> TempReachedOp{Temperature Reached Set Point?}\n",
    "    ModeCheck -- Tuning --> TuningAnalysis\n",
    "\n",
    "    TempReachedOp -- Yes --> StartTimerOp[Start Timer]\n",
    "    TempReachedOp -- No --> UpdateTotalRunTime[Update Total Run Time]\n",
    "\n",
    "    StartTimerOp --> TimerExpiredOp{Timer Expired?}\n",
    "    TimerExpiredOp -- Yes --> StopTimerOp[Stop Timer & Set Completion Flag]\n",
    "    TimerExpiredOp -- No --> UpdateTotalRunTime\n",
    "\n",
    "    StopTimerOp --> UpdateTotalRunTime\n",
    "    UpdateTotalRunTime --> CheckCompletion{Completion Flag True?}\n",
    "    CheckCompletion --No--> SetPointOp\n",
    "    CheckCompletion --Yes--> ModeCheck\n",
    "'''\n",
    "\n",
    "# Call the function with the graph definition\n",
    "display_mermaid(mermaid_graph)\n"
   ]
  }
 ],
 "metadata": {
  "kernelspec": {
   "display_name": "Python 3",
   "language": "python",
   "name": "python3"
  },
  "language_info": {
   "codemirror_mode": {
    "name": "ipython",
    "version": 3
   },
   "file_extension": ".py",
   "mimetype": "text/x-python",
   "name": "python",
   "nbconvert_exporter": "python",
   "pygments_lexer": "ipython3",
   "version": "3.11.4"
  }
 },
 "nbformat": 4,
 "nbformat_minor": 2
}
